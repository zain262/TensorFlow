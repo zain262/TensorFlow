{
  "nbformat": 4,
  "nbformat_minor": 0,
  "metadata": {
    "colab": {
      "provenance": []
    },
    "kernelspec": {
      "name": "python3",
      "display_name": "Python 3"
    },
    "language_info": {
      "name": "python"
    }
  },
  "cells": [
    {
      "cell_type": "markdown",
      "source": [
        "\n",
        "Zain Ali\n",
        "\n",
        "\n"
      ],
      "metadata": {
        "id": "oTBkTU1OaXva"
      }
    },
    {
      "cell_type": "markdown",
      "source": [
        "Abstract:\n",
        "\n",
        "The fetal health classification dataset provides valuable information for predicting the health status of unborn babies during pregnancy. This dataset encompasses various parameters collected from cardiotocogram (CTG) exams, which are commonly used to monitor fetal well-being. In this project, we aim to develop a machine learning model that can accurately classify the fetal health status based on the provided features. By leveraging advanced algorithms and techniques, we strive to create a reliable tool that can assist healthcare professionals in making informed decisions regarding the care and management of pregnancies. The outcomes of this study have the potential to enhance prenatal healthcare and improve the overall well-being of both mothers and their unborn babies."
      ],
      "metadata": {
        "id": "kHEDA8EQnsKg"
      }
    },
    {
      "cell_type": "markdown",
      "source": [
        "Dataset: https://www.kaggle.com/datasets/andrewmvd/fetal-health-classification?select=fetal_health.csv\n",
        "\n",
        "Ayres de Campos et al. (2000) SisPorto 2.0 A Program for Automated Analysis of Cardiotocograms. J Matern Fetal Med 5:311-318 (link)"
      ],
      "metadata": {
        "id": "a8B1npsSm2E9"
      }
    },
    {
      "cell_type": "code",
      "source": [
        "import zipfile\n",
        "\n",
        "# Unzip the data file\n",
        "\n",
        "zip_ref = zipfile.ZipFile(\"/content/archive.zip\", \"r\")\n",
        "zip_ref.extractall()\n",
        "zip_ref.close()"
      ],
      "metadata": {
        "id": "zvIWtKJzaahH"
      },
      "execution_count": 193,
      "outputs": []
    },
    {
      "cell_type": "code",
      "source": [
        "# Convert file to a data frame\n",
        "\n",
        "import pandas as pd\n",
        "\n",
        "data = pd.read_csv(\"/content/fetal_health.csv\")\n",
        "data.head()"
      ],
      "metadata": {
        "colab": {
          "base_uri": "https://localhost:8080/",
          "height": 317
        },
        "id": "34326iARIdIx",
        "outputId": "06809d67-c223-4330-b885-bf50b967a40b"
      },
      "execution_count": 194,
      "outputs": [
        {
          "output_type": "execute_result",
          "data": {
            "text/plain": [
              "   baseline value  accelerations  fetal_movement  uterine_contractions  \\\n",
              "0           120.0          0.000             0.0                 0.000   \n",
              "1           132.0          0.006             0.0                 0.006   \n",
              "2           133.0          0.003             0.0                 0.008   \n",
              "3           134.0          0.003             0.0                 0.008   \n",
              "4           132.0          0.007             0.0                 0.008   \n",
              "\n",
              "   light_decelerations  severe_decelerations  prolongued_decelerations  \\\n",
              "0                0.000                   0.0                       0.0   \n",
              "1                0.003                   0.0                       0.0   \n",
              "2                0.003                   0.0                       0.0   \n",
              "3                0.003                   0.0                       0.0   \n",
              "4                0.000                   0.0                       0.0   \n",
              "\n",
              "   abnormal_short_term_variability  mean_value_of_short_term_variability  \\\n",
              "0                             73.0                                   0.5   \n",
              "1                             17.0                                   2.1   \n",
              "2                             16.0                                   2.1   \n",
              "3                             16.0                                   2.4   \n",
              "4                             16.0                                   2.4   \n",
              "\n",
              "   percentage_of_time_with_abnormal_long_term_variability  ...  histogram_min  \\\n",
              "0                                               43.0       ...           62.0   \n",
              "1                                                0.0       ...           68.0   \n",
              "2                                                0.0       ...           68.0   \n",
              "3                                                0.0       ...           53.0   \n",
              "4                                                0.0       ...           53.0   \n",
              "\n",
              "   histogram_max  histogram_number_of_peaks  histogram_number_of_zeroes  \\\n",
              "0          126.0                        2.0                         0.0   \n",
              "1          198.0                        6.0                         1.0   \n",
              "2          198.0                        5.0                         1.0   \n",
              "3          170.0                       11.0                         0.0   \n",
              "4          170.0                        9.0                         0.0   \n",
              "\n",
              "   histogram_mode  histogram_mean  histogram_median  histogram_variance  \\\n",
              "0           120.0           137.0             121.0                73.0   \n",
              "1           141.0           136.0             140.0                12.0   \n",
              "2           141.0           135.0             138.0                13.0   \n",
              "3           137.0           134.0             137.0                13.0   \n",
              "4           137.0           136.0             138.0                11.0   \n",
              "\n",
              "   histogram_tendency  fetal_health  \n",
              "0                 1.0           2.0  \n",
              "1                 0.0           1.0  \n",
              "2                 0.0           1.0  \n",
              "3                 1.0           1.0  \n",
              "4                 1.0           1.0  \n",
              "\n",
              "[5 rows x 22 columns]"
            ],
            "text/html": [
              "\n",
              "  <div id=\"df-74e77f02-0604-412c-bb30-220561939f05\">\n",
              "    <div class=\"colab-df-container\">\n",
              "      <div>\n",
              "<style scoped>\n",
              "    .dataframe tbody tr th:only-of-type {\n",
              "        vertical-align: middle;\n",
              "    }\n",
              "\n",
              "    .dataframe tbody tr th {\n",
              "        vertical-align: top;\n",
              "    }\n",
              "\n",
              "    .dataframe thead th {\n",
              "        text-align: right;\n",
              "    }\n",
              "</style>\n",
              "<table border=\"1\" class=\"dataframe\">\n",
              "  <thead>\n",
              "    <tr style=\"text-align: right;\">\n",
              "      <th></th>\n",
              "      <th>baseline value</th>\n",
              "      <th>accelerations</th>\n",
              "      <th>fetal_movement</th>\n",
              "      <th>uterine_contractions</th>\n",
              "      <th>light_decelerations</th>\n",
              "      <th>severe_decelerations</th>\n",
              "      <th>prolongued_decelerations</th>\n",
              "      <th>abnormal_short_term_variability</th>\n",
              "      <th>mean_value_of_short_term_variability</th>\n",
              "      <th>percentage_of_time_with_abnormal_long_term_variability</th>\n",
              "      <th>...</th>\n",
              "      <th>histogram_min</th>\n",
              "      <th>histogram_max</th>\n",
              "      <th>histogram_number_of_peaks</th>\n",
              "      <th>histogram_number_of_zeroes</th>\n",
              "      <th>histogram_mode</th>\n",
              "      <th>histogram_mean</th>\n",
              "      <th>histogram_median</th>\n",
              "      <th>histogram_variance</th>\n",
              "      <th>histogram_tendency</th>\n",
              "      <th>fetal_health</th>\n",
              "    </tr>\n",
              "  </thead>\n",
              "  <tbody>\n",
              "    <tr>\n",
              "      <th>0</th>\n",
              "      <td>120.0</td>\n",
              "      <td>0.000</td>\n",
              "      <td>0.0</td>\n",
              "      <td>0.000</td>\n",
              "      <td>0.000</td>\n",
              "      <td>0.0</td>\n",
              "      <td>0.0</td>\n",
              "      <td>73.0</td>\n",
              "      <td>0.5</td>\n",
              "      <td>43.0</td>\n",
              "      <td>...</td>\n",
              "      <td>62.0</td>\n",
              "      <td>126.0</td>\n",
              "      <td>2.0</td>\n",
              "      <td>0.0</td>\n",
              "      <td>120.0</td>\n",
              "      <td>137.0</td>\n",
              "      <td>121.0</td>\n",
              "      <td>73.0</td>\n",
              "      <td>1.0</td>\n",
              "      <td>2.0</td>\n",
              "    </tr>\n",
              "    <tr>\n",
              "      <th>1</th>\n",
              "      <td>132.0</td>\n",
              "      <td>0.006</td>\n",
              "      <td>0.0</td>\n",
              "      <td>0.006</td>\n",
              "      <td>0.003</td>\n",
              "      <td>0.0</td>\n",
              "      <td>0.0</td>\n",
              "      <td>17.0</td>\n",
              "      <td>2.1</td>\n",
              "      <td>0.0</td>\n",
              "      <td>...</td>\n",
              "      <td>68.0</td>\n",
              "      <td>198.0</td>\n",
              "      <td>6.0</td>\n",
              "      <td>1.0</td>\n",
              "      <td>141.0</td>\n",
              "      <td>136.0</td>\n",
              "      <td>140.0</td>\n",
              "      <td>12.0</td>\n",
              "      <td>0.0</td>\n",
              "      <td>1.0</td>\n",
              "    </tr>\n",
              "    <tr>\n",
              "      <th>2</th>\n",
              "      <td>133.0</td>\n",
              "      <td>0.003</td>\n",
              "      <td>0.0</td>\n",
              "      <td>0.008</td>\n",
              "      <td>0.003</td>\n",
              "      <td>0.0</td>\n",
              "      <td>0.0</td>\n",
              "      <td>16.0</td>\n",
              "      <td>2.1</td>\n",
              "      <td>0.0</td>\n",
              "      <td>...</td>\n",
              "      <td>68.0</td>\n",
              "      <td>198.0</td>\n",
              "      <td>5.0</td>\n",
              "      <td>1.0</td>\n",
              "      <td>141.0</td>\n",
              "      <td>135.0</td>\n",
              "      <td>138.0</td>\n",
              "      <td>13.0</td>\n",
              "      <td>0.0</td>\n",
              "      <td>1.0</td>\n",
              "    </tr>\n",
              "    <tr>\n",
              "      <th>3</th>\n",
              "      <td>134.0</td>\n",
              "      <td>0.003</td>\n",
              "      <td>0.0</td>\n",
              "      <td>0.008</td>\n",
              "      <td>0.003</td>\n",
              "      <td>0.0</td>\n",
              "      <td>0.0</td>\n",
              "      <td>16.0</td>\n",
              "      <td>2.4</td>\n",
              "      <td>0.0</td>\n",
              "      <td>...</td>\n",
              "      <td>53.0</td>\n",
              "      <td>170.0</td>\n",
              "      <td>11.0</td>\n",
              "      <td>0.0</td>\n",
              "      <td>137.0</td>\n",
              "      <td>134.0</td>\n",
              "      <td>137.0</td>\n",
              "      <td>13.0</td>\n",
              "      <td>1.0</td>\n",
              "      <td>1.0</td>\n",
              "    </tr>\n",
              "    <tr>\n",
              "      <th>4</th>\n",
              "      <td>132.0</td>\n",
              "      <td>0.007</td>\n",
              "      <td>0.0</td>\n",
              "      <td>0.008</td>\n",
              "      <td>0.000</td>\n",
              "      <td>0.0</td>\n",
              "      <td>0.0</td>\n",
              "      <td>16.0</td>\n",
              "      <td>2.4</td>\n",
              "      <td>0.0</td>\n",
              "      <td>...</td>\n",
              "      <td>53.0</td>\n",
              "      <td>170.0</td>\n",
              "      <td>9.0</td>\n",
              "      <td>0.0</td>\n",
              "      <td>137.0</td>\n",
              "      <td>136.0</td>\n",
              "      <td>138.0</td>\n",
              "      <td>11.0</td>\n",
              "      <td>1.0</td>\n",
              "      <td>1.0</td>\n",
              "    </tr>\n",
              "  </tbody>\n",
              "</table>\n",
              "<p>5 rows × 22 columns</p>\n",
              "</div>\n",
              "      <button class=\"colab-df-convert\" onclick=\"convertToInteractive('df-74e77f02-0604-412c-bb30-220561939f05')\"\n",
              "              title=\"Convert this dataframe to an interactive table.\"\n",
              "              style=\"display:none;\">\n",
              "        \n",
              "  <svg xmlns=\"http://www.w3.org/2000/svg\" height=\"24px\"viewBox=\"0 0 24 24\"\n",
              "       width=\"24px\">\n",
              "    <path d=\"M0 0h24v24H0V0z\" fill=\"none\"/>\n",
              "    <path d=\"M18.56 5.44l.94 2.06.94-2.06 2.06-.94-2.06-.94-.94-2.06-.94 2.06-2.06.94zm-11 1L8.5 8.5l.94-2.06 2.06-.94-2.06-.94L8.5 2.5l-.94 2.06-2.06.94zm10 10l.94 2.06.94-2.06 2.06-.94-2.06-.94-.94-2.06-.94 2.06-2.06.94z\"/><path d=\"M17.41 7.96l-1.37-1.37c-.4-.4-.92-.59-1.43-.59-.52 0-1.04.2-1.43.59L10.3 9.45l-7.72 7.72c-.78.78-.78 2.05 0 2.83L4 21.41c.39.39.9.59 1.41.59.51 0 1.02-.2 1.41-.59l7.78-7.78 2.81-2.81c.8-.78.8-2.07 0-2.86zM5.41 20L4 18.59l7.72-7.72 1.47 1.35L5.41 20z\"/>\n",
              "  </svg>\n",
              "      </button>\n",
              "      \n",
              "  <style>\n",
              "    .colab-df-container {\n",
              "      display:flex;\n",
              "      flex-wrap:wrap;\n",
              "      gap: 12px;\n",
              "    }\n",
              "\n",
              "    .colab-df-convert {\n",
              "      background-color: #E8F0FE;\n",
              "      border: none;\n",
              "      border-radius: 50%;\n",
              "      cursor: pointer;\n",
              "      display: none;\n",
              "      fill: #1967D2;\n",
              "      height: 32px;\n",
              "      padding: 0 0 0 0;\n",
              "      width: 32px;\n",
              "    }\n",
              "\n",
              "    .colab-df-convert:hover {\n",
              "      background-color: #E2EBFA;\n",
              "      box-shadow: 0px 1px 2px rgba(60, 64, 67, 0.3), 0px 1px 3px 1px rgba(60, 64, 67, 0.15);\n",
              "      fill: #174EA6;\n",
              "    }\n",
              "\n",
              "    [theme=dark] .colab-df-convert {\n",
              "      background-color: #3B4455;\n",
              "      fill: #D2E3FC;\n",
              "    }\n",
              "\n",
              "    [theme=dark] .colab-df-convert:hover {\n",
              "      background-color: #434B5C;\n",
              "      box-shadow: 0px 1px 3px 1px rgba(0, 0, 0, 0.15);\n",
              "      filter: drop-shadow(0px 1px 2px rgba(0, 0, 0, 0.3));\n",
              "      fill: #FFFFFF;\n",
              "    }\n",
              "  </style>\n",
              "\n",
              "      <script>\n",
              "        const buttonEl =\n",
              "          document.querySelector('#df-74e77f02-0604-412c-bb30-220561939f05 button.colab-df-convert');\n",
              "        buttonEl.style.display =\n",
              "          google.colab.kernel.accessAllowed ? 'block' : 'none';\n",
              "\n",
              "        async function convertToInteractive(key) {\n",
              "          const element = document.querySelector('#df-74e77f02-0604-412c-bb30-220561939f05');\n",
              "          const dataTable =\n",
              "            await google.colab.kernel.invokeFunction('convertToInteractive',\n",
              "                                                     [key], {});\n",
              "          if (!dataTable) return;\n",
              "\n",
              "          const docLinkHtml = 'Like what you see? Visit the ' +\n",
              "            '<a target=\"_blank\" href=https://colab.research.google.com/notebooks/data_table.ipynb>data table notebook</a>'\n",
              "            + ' to learn more about interactive tables.';\n",
              "          element.innerHTML = '';\n",
              "          dataTable['output_type'] = 'display_data';\n",
              "          await google.colab.output.renderOutput(dataTable, element);\n",
              "          const docLink = document.createElement('div');\n",
              "          docLink.innerHTML = docLinkHtml;\n",
              "          element.appendChild(docLink);\n",
              "        }\n",
              "      </script>\n",
              "    </div>\n",
              "  </div>\n",
              "  "
            ]
          },
          "metadata": {},
          "execution_count": 194
        }
      ]
    },
    {
      "cell_type": "code",
      "source": [
        "data.info()"
      ],
      "metadata": {
        "colab": {
          "base_uri": "https://localhost:8080/"
        },
        "id": "791AOuodIwoc",
        "outputId": "17f97f52-c6a3-4356-f1b5-572706f59673"
      },
      "execution_count": 195,
      "outputs": [
        {
          "output_type": "stream",
          "name": "stdout",
          "text": [
            "<class 'pandas.core.frame.DataFrame'>\n",
            "RangeIndex: 2126 entries, 0 to 2125\n",
            "Data columns (total 22 columns):\n",
            " #   Column                                                  Non-Null Count  Dtype  \n",
            "---  ------                                                  --------------  -----  \n",
            " 0   baseline value                                          2126 non-null   float64\n",
            " 1   accelerations                                           2126 non-null   float64\n",
            " 2   fetal_movement                                          2126 non-null   float64\n",
            " 3   uterine_contractions                                    2126 non-null   float64\n",
            " 4   light_decelerations                                     2126 non-null   float64\n",
            " 5   severe_decelerations                                    2126 non-null   float64\n",
            " 6   prolongued_decelerations                                2126 non-null   float64\n",
            " 7   abnormal_short_term_variability                         2126 non-null   float64\n",
            " 8   mean_value_of_short_term_variability                    2126 non-null   float64\n",
            " 9   percentage_of_time_with_abnormal_long_term_variability  2126 non-null   float64\n",
            " 10  mean_value_of_long_term_variability                     2126 non-null   float64\n",
            " 11  histogram_width                                         2126 non-null   float64\n",
            " 12  histogram_min                                           2126 non-null   float64\n",
            " 13  histogram_max                                           2126 non-null   float64\n",
            " 14  histogram_number_of_peaks                               2126 non-null   float64\n",
            " 15  histogram_number_of_zeroes                              2126 non-null   float64\n",
            " 16  histogram_mode                                          2126 non-null   float64\n",
            " 17  histogram_mean                                          2126 non-null   float64\n",
            " 18  histogram_median                                        2126 non-null   float64\n",
            " 19  histogram_variance                                      2126 non-null   float64\n",
            " 20  histogram_tendency                                      2126 non-null   float64\n",
            " 21  fetal_health                                            2126 non-null   float64\n",
            "dtypes: float64(22)\n",
            "memory usage: 365.5 KB\n"
          ]
        }
      ]
    },
    {
      "cell_type": "code",
      "source": [
        "# Preprocess the data\n",
        "data.set_index('fetal_health', inplace=True)  # Set the target column as the index"
      ],
      "metadata": {
        "id": "atdrSOoEJ53B"
      },
      "execution_count": 196,
      "outputs": []
    },
    {
      "cell_type": "code",
      "source": [
        "# Extract input features (X) and labels (y) from the train and test data\n",
        "X_train, y_train = train.iloc[:, 1:].values, train.iloc[:, 1:].index.values\n",
        "X_test, y_test = test.iloc[:, 1:].values, test.iloc[:, 1:].index.values"
      ],
      "metadata": {
        "id": "yYQFbQUWKmtL"
      },
      "execution_count": 197,
      "outputs": []
    },
    {
      "cell_type": "code",
      "source": [
        "from sklearn.model_selection import train_test_split\n",
        "\n",
        "X = data\n",
        "y = data.index\n",
        "\n",
        "# Convert y to categorical labels\n",
        "y_categorical = pd.get_dummies(y)\n",
        "\n",
        "# Split the data into training and testing sets\n",
        "X_train, X_test, y_train, y_test = train_test_split(X, y_categorical, test_size=0.2, random_state=42)"
      ],
      "metadata": {
        "id": "AU2y9KIMKqZ4"
      },
      "execution_count": 198,
      "outputs": []
    },
    {
      "cell_type": "code",
      "source": [
        "# Try to visualize the data\n",
        "\n",
        "import matplotlib.pyplot as plt\n",
        "\n",
        "plt.figure(figsize=(7, 10))\n",
        "\n",
        "\n",
        "plt.bar(data.index.value_counts().index, data.index.value_counts())"
      ],
      "metadata": {
        "colab": {
          "base_uri": "https://localhost:8080/",
          "height": 847
        },
        "id": "-rC8SM-3K-BR",
        "outputId": "6cc2f2a1-5638-45e3-ef4c-9390edc4daa3"
      },
      "execution_count": 199,
      "outputs": [
        {
          "output_type": "execute_result",
          "data": {
            "text/plain": [
              "<BarContainer object of 3 artists>"
            ]
          },
          "metadata": {},
          "execution_count": 199
        },
        {
          "output_type": "display_data",
          "data": {
            "text/plain": [
              "<Figure size 700x1000 with 1 Axes>"
            ],
            "image/png": "[encoded data removed]"
          },
          "metadata": {}
        }
      ]
    },
    {
      "cell_type": "code",
      "source": [
        "import pandas as pd\n",
        "import tensorflow as tf\n",
        "\n",
        "tf.random.set_seed(23)\n",
        "\n",
        "# Define the neural network model\n",
        "model = tf.keras.Sequential([\n",
        "  tf.keras.layers.Dense(32, activation='relu', input_shape=(X_train.shape[1],)),\n",
        "  tf.keras.layers.Dense(16, activation='relu'),\n",
        "  tf.keras.layers.Dense(3, activation='softmax')  # Output layer with number of units matching number of classes\n",
        "])\n",
        "\n",
        "lr_scheduler = tf.keras.callbacks.LearningRateScheduler(lambda epoch: 1e-4 * 10**(epoch/20))\n",
        "\n",
        "\n",
        "# Compile the model\n",
        "model.compile(loss='categorical_crossentropy', optimizer='adam', metrics=['accuracy'])\n",
        "\n",
        "# Train the model\n",
        "history = model.fit(X_train, y_train, epochs=20, batch_size=32, validation_data=(X_test, y_test), callbacks=[lr_scheduler])\n"
      ],
      "metadata": {
        "colab": {
          "base_uri": "https://localhost:8080/"
        },
        "id": "xmepGQU8PTCz",
        "outputId": "fb2ebcc7-3102-4eeb-ad0d-9604d90504df"
      },
      "execution_count": 225,
      "outputs": [
        {
          "output_type": "stream",
          "name": "stdout",
          "text": [
            "Epoch 1/20\n",
            "54/54 [==============================] - 1s 6ms/step - loss: 7.4991 - accuracy: 0.1541 - val_loss: 2.9172 - val_accuracy: 0.2230 - lr: 1.0000e-04\n",
            "Epoch 2/20\n",
            "54/54 [==============================] - 0s 2ms/step - loss: 1.7530 - accuracy: 0.5653 - val_loss: 1.1863 - val_accuracy: 0.7300 - lr: 1.1220e-04\n",
            "Epoch 3/20\n",
            "54/54 [==============================] - 0s 2ms/step - loss: 1.2324 - accuracy: 0.7353 - val_loss: 1.0420 - val_accuracy: 0.7535 - lr: 1.2589e-04\n",
            "Epoch 4/20\n",
            "54/54 [==============================] - 0s 2ms/step - loss: 1.1263 - accuracy: 0.7494 - val_loss: 0.9613 - val_accuracy: 0.7770 - lr: 1.4125e-04\n",
            "Epoch 5/20\n",
            "54/54 [==============================] - 0s 2ms/step - loss: 1.0252 - accuracy: 0.7571 - val_loss: 0.8636 - val_accuracy: 0.7723 - lr: 1.5849e-04\n",
            "Epoch 6/20\n",
            "54/54 [==============================] - 0s 2ms/step - loss: 0.9306 - accuracy: 0.7618 - val_loss: 0.7844 - val_accuracy: 0.7770 - lr: 1.7783e-04\n",
            "Epoch 7/20\n",
            "54/54 [==============================] - 0s 2ms/step - loss: 0.8462 - accuracy: 0.7671 - val_loss: 0.7203 - val_accuracy: 0.7770 - lr: 1.9953e-04\n",
            "Epoch 8/20\n",
            "54/54 [==============================] - 0s 2ms/step - loss: 0.7570 - accuracy: 0.7688 - val_loss: 0.6708 - val_accuracy: 0.8005 - lr: 2.2387e-04\n",
            "Epoch 9/20\n",
            "54/54 [==============================] - 0s 2ms/step - loss: 0.6922 - accuracy: 0.7771 - val_loss: 0.6285 - val_accuracy: 0.7793 - lr: 2.5119e-04\n",
            "Epoch 10/20\n",
            "54/54 [==============================] - 0s 2ms/step - loss: 0.6487 - accuracy: 0.7841 - val_loss: 0.5926 - val_accuracy: 0.8099 - lr: 2.8184e-04\n",
            "Epoch 11/20\n",
            "54/54 [==============================] - 0s 2ms/step - loss: 0.6026 - accuracy: 0.7947 - val_loss: 0.5555 - val_accuracy: 0.8122 - lr: 3.1623e-04\n",
            "Epoch 12/20\n",
            "54/54 [==============================] - 0s 2ms/step - loss: 0.5609 - accuracy: 0.8029 - val_loss: 0.5310 - val_accuracy: 0.8146 - lr: 3.5481e-04\n",
            "Epoch 13/20\n",
            "54/54 [==============================] - 0s 2ms/step - loss: 0.5310 - accuracy: 0.8053 - val_loss: 0.5056 - val_accuracy: 0.8310 - lr: 3.9811e-04\n",
            "Epoch 14/20\n",
            "54/54 [==============================] - 0s 2ms/step - loss: 0.5148 - accuracy: 0.8159 - val_loss: 0.4967 - val_accuracy: 0.8239 - lr: 4.4668e-04\n",
            "Epoch 15/20\n",
            "54/54 [==============================] - 0s 2ms/step - loss: 0.4907 - accuracy: 0.8259 - val_loss: 0.4770 - val_accuracy: 0.8239 - lr: 5.0119e-04\n",
            "Epoch 16/20\n",
            "54/54 [==============================] - 0s 2ms/step - loss: 0.4867 - accuracy: 0.8282 - val_loss: 0.4528 - val_accuracy: 0.8333 - lr: 5.6234e-04\n",
            "Epoch 17/20\n",
            "54/54 [==============================] - 0s 2ms/step - loss: 0.4724 - accuracy: 0.8176 - val_loss: 0.4444 - val_accuracy: 0.8404 - lr: 6.3096e-04\n",
            "Epoch 18/20\n",
            "54/54 [==============================] - 0s 2ms/step - loss: 0.4565 - accuracy: 0.8241 - val_loss: 0.4628 - val_accuracy: 0.8310 - lr: 7.0795e-04\n",
            "Epoch 19/20\n",
            "54/54 [==============================] - 0s 2ms/step - loss: 0.4495 - accuracy: 0.8306 - val_loss: 0.4385 - val_accuracy: 0.8239 - lr: 7.9433e-04\n",
            "Epoch 20/20\n",
            "54/54 [==============================] - 0s 2ms/step - loss: 0.4437 - accuracy: 0.8312 - val_loss: 0.4068 - val_accuracy: 0.8568 - lr: 8.9125e-04\n"
          ]
        }
      ]
    },
    {
      "cell_type": "code",
      "source": [
        "# Plot the loss curve\n",
        "plt.plot(history.history[\"val_loss\"], label=\"Validation Loss\")\n",
        "plt.plot(history.history[\"loss\"], label=\"Training Loss\")\n",
        "plt.legend()\n"
      ],
      "metadata": {
        "colab": {
          "base_uri": "https://localhost:8080/",
          "height": 447
        },
        "id": "NKQ1Nm-oSoAy",
        "outputId": "11c0e2c1-426d-455e-8b01-20fd112d9c41"
      },
      "execution_count": 210,
      "outputs": [
        {
          "output_type": "execute_result",
          "data": {
            "text/plain": [
              "<matplotlib.legend.Legend at 0x7f29d28f6800>"
            ]
          },
          "metadata": {},
          "execution_count": 210
        },
        {
          "output_type": "display_data",
          "data": {
            "text/plain": [
              "<Figure size 640x480 with 1 Axes>"
            ],
            "image/png": "[encoded data removed]"
          },
          "metadata": {}
        }
      ]
    },
    {
      "cell_type": "code",
      "source": [
        "import numpy as np\n",
        "\n",
        "# Plot the learning rate versus the loss\n",
        "lrs = 1e-4 * (10 ** (np.arange(len(history.history[\"loss\"]))/20))\n",
        "plt.figure(figsize=(10, 7))\n",
        "plt.semilogx(lrs, history.history[\"loss\"]) # we want the x-axis (learning rate) to be log scale\n",
        "plt.xlabel(\"Learning Rate\")\n",
        "plt.ylabel(\"Loss\")\n",
        "plt.title(\"Learning rate vs. loss\")\n",
        "plt.show()\n"
      ],
      "metadata": {
        "colab": {
          "base_uri": "https://localhost:8080/",
          "height": 646
        },
        "id": "Lm9piKLVi_sW",
        "outputId": "7b52162c-bbe2-43b0-b1bf-bd210c78fdd1"
      },
      "execution_count": 211,
      "outputs": [
        {
          "output_type": "display_data",
          "data": {
            "text/plain": [
              "<Figure size 1000x700 with 1 Axes>"
            ],
            "image/png": "[encoded data removed]"
          },
          "metadata": {}
        }
      ]
    },
    {
      "cell_type": "markdown",
      "source": [
        "Learning rate should be around or >10^-4\n",
        "\n",
        "\n",
        "\n",
        "*   Learning Rate to 0.002 now\n",
        "*   Add more layers and or neurons\n",
        "*   Switch from softmax to sigmoid\n",
        "\n",
        "\n",
        "\n"
      ],
      "metadata": {
        "id": "Mb3TM2yUjuf8"
      }
    },
    {
      "cell_type": "code",
      "source": [
        "import pandas as pd\n",
        "import tensorflow as tf\n",
        "\n",
        "tf.random.set_seed(23)\n",
        "\n",
        "# Define the neural network model\n",
        "model = tf.keras.Sequential([\n",
        "  tf.keras.layers.Dense(50, activation='relu', input_shape=(X_train.shape[1],)),\n",
        "  tf.keras.layers.Dense(16, activation='relu'),\n",
        "  tf.keras.layers.Dense(16, activation='relu'),\n",
        "  tf.keras.layers.Dense(3, activation='sigmoid')  # Output layer with number of units matching number of classes\n",
        "])\n",
        "\n",
        "\n",
        "\n",
        "# Compile the model\n",
        "model.compile(loss='categorical_crossentropy', optimizer=tf.keras.optimizers.Adam(0.0002), metrics=['accuracy'])\n",
        "\n",
        "# Train the model\n",
        "history = model.fit(X_train, y_train, epochs=70, batch_size=32, validation_data=(X_test, y_test))\n"
      ],
      "metadata": {
        "colab": {
          "base_uri": "https://localhost:8080/"
        },
        "id": "xqQFsIjlj4Aw",
        "outputId": "61f723bd-be53-43f5-8658-fc3ffc1ba8bb"
      },
      "execution_count": 224,
      "outputs": [
        {
          "output_type": "stream",
          "name": "stdout",
          "text": [
            "Epoch 1/70\n",
            "54/54 [==============================] - 1s 5ms/step - loss: 1.9606 - accuracy: 0.6400 - val_loss: 1.0387 - val_accuracy: 0.7559\n",
            "Epoch 2/70\n",
            "54/54 [==============================] - 0s 2ms/step - loss: 1.0184 - accuracy: 0.7612 - val_loss: 0.7992 - val_accuracy: 0.7864\n",
            "Epoch 3/70\n",
            "54/54 [==============================] - 0s 3ms/step - loss: 0.8884 - accuracy: 0.7876 - val_loss: 0.7045 - val_accuracy: 0.7887\n",
            "Epoch 4/70\n",
            "54/54 [==============================] - 0s 2ms/step - loss: 0.8000 - accuracy: 0.7971 - val_loss: 0.6404 - val_accuracy: 0.7981\n",
            "Epoch 5/70\n",
            "54/54 [==============================] - 0s 2ms/step - loss: 0.7262 - accuracy: 0.7965 - val_loss: 0.5761 - val_accuracy: 0.8122\n",
            "Epoch 6/70\n",
            "54/54 [==============================] - 0s 2ms/step - loss: 0.6602 - accuracy: 0.8082 - val_loss: 0.5619 - val_accuracy: 0.7911\n",
            "Epoch 7/70\n",
            "54/54 [==============================] - 0s 2ms/step - loss: 0.6214 - accuracy: 0.8018 - val_loss: 0.5034 - val_accuracy: 0.8005\n",
            "Epoch 8/70\n",
            "54/54 [==============================] - 0s 2ms/step - loss: 0.5837 - accuracy: 0.8065 - val_loss: 0.4892 - val_accuracy: 0.8357\n",
            "Epoch 9/70\n",
            "54/54 [==============================] - 0s 2ms/step - loss: 0.5419 - accuracy: 0.8141 - val_loss: 0.4436 - val_accuracy: 0.8075\n",
            "Epoch 10/70\n",
            "54/54 [==============================] - 0s 3ms/step - loss: 0.5318 - accuracy: 0.8171 - val_loss: 0.4438 - val_accuracy: 0.8005\n",
            "Epoch 11/70\n",
            "54/54 [==============================] - 0s 4ms/step - loss: 0.5046 - accuracy: 0.8229 - val_loss: 0.4123 - val_accuracy: 0.8357\n",
            "Epoch 12/70\n",
            "54/54 [==============================] - 0s 3ms/step - loss: 0.4816 - accuracy: 0.8282 - val_loss: 0.4142 - val_accuracy: 0.8286\n",
            "Epoch 13/70\n",
            "54/54 [==============================] - 0s 3ms/step - loss: 0.4702 - accuracy: 0.8271 - val_loss: 0.4134 - val_accuracy: 0.8404\n",
            "Epoch 14/70\n",
            "54/54 [==============================] - 0s 2ms/step - loss: 0.4619 - accuracy: 0.8300 - val_loss: 0.3952 - val_accuracy: 0.8404\n",
            "Epoch 15/70\n",
            "54/54 [==============================] - 0s 3ms/step - loss: 0.4343 - accuracy: 0.8353 - val_loss: 0.4162 - val_accuracy: 0.8427\n",
            "Epoch 16/70\n",
            "54/54 [==============================] - 0s 3ms/step - loss: 0.4292 - accuracy: 0.8306 - val_loss: 0.3895 - val_accuracy: 0.8615\n",
            "Epoch 17/70\n",
            "54/54 [==============================] - 0s 3ms/step - loss: 0.4222 - accuracy: 0.8435 - val_loss: 0.3881 - val_accuracy: 0.8427\n",
            "Epoch 18/70\n",
            "54/54 [==============================] - 0s 3ms/step - loss: 0.4052 - accuracy: 0.8453 - val_loss: 0.4133 - val_accuracy: 0.8474\n",
            "Epoch 19/70\n",
            "54/54 [==============================] - 0s 3ms/step - loss: 0.4081 - accuracy: 0.8453 - val_loss: 0.3932 - val_accuracy: 0.8592\n",
            "Epoch 20/70\n",
            "54/54 [==============================] - 0s 3ms/step - loss: 0.3968 - accuracy: 0.8459 - val_loss: 0.3758 - val_accuracy: 0.8592\n",
            "Epoch 21/70\n",
            "54/54 [==============================] - 0s 3ms/step - loss: 0.3920 - accuracy: 0.8535 - val_loss: 0.4137 - val_accuracy: 0.8474\n",
            "Epoch 22/70\n",
            "54/54 [==============================] - 0s 2ms/step - loss: 0.3952 - accuracy: 0.8476 - val_loss: 0.3567 - val_accuracy: 0.8803\n",
            "Epoch 23/70\n",
            "54/54 [==============================] - 0s 2ms/step - loss: 0.3785 - accuracy: 0.8535 - val_loss: 0.3574 - val_accuracy: 0.8732\n",
            "Epoch 24/70\n",
            "54/54 [==============================] - 0s 2ms/step - loss: 0.3738 - accuracy: 0.8571 - val_loss: 0.3595 - val_accuracy: 0.8756\n",
            "Epoch 25/70\n",
            "54/54 [==============================] - 0s 2ms/step - loss: 0.3729 - accuracy: 0.8506 - val_loss: 0.3722 - val_accuracy: 0.8709\n",
            "Epoch 26/70\n",
            "54/54 [==============================] - 0s 2ms/step - loss: 0.3664 - accuracy: 0.8629 - val_loss: 0.3410 - val_accuracy: 0.8873\n",
            "Epoch 27/70\n",
            "54/54 [==============================] - 0s 2ms/step - loss: 0.3810 - accuracy: 0.8565 - val_loss: 0.3576 - val_accuracy: 0.8592\n",
            "Epoch 28/70\n",
            "54/54 [==============================] - 0s 2ms/step - loss: 0.3625 - accuracy: 0.8612 - val_loss: 0.3306 - val_accuracy: 0.8897\n",
            "Epoch 29/70\n",
            "54/54 [==============================] - 0s 2ms/step - loss: 0.3710 - accuracy: 0.8541 - val_loss: 0.3694 - val_accuracy: 0.8545\n",
            "Epoch 30/70\n",
            "54/54 [==============================] - 0s 2ms/step - loss: 0.3653 - accuracy: 0.8494 - val_loss: 0.3551 - val_accuracy: 0.8779\n",
            "Epoch 31/70\n",
            "54/54 [==============================] - 0s 2ms/step - loss: 0.3546 - accuracy: 0.8688 - val_loss: 0.3283 - val_accuracy: 0.8944\n",
            "Epoch 32/70\n",
            "54/54 [==============================] - 0s 2ms/step - loss: 0.3485 - accuracy: 0.8712 - val_loss: 0.3262 - val_accuracy: 0.8944\n",
            "Epoch 33/70\n",
            "54/54 [==============================] - 0s 2ms/step - loss: 0.3512 - accuracy: 0.8659 - val_loss: 0.3345 - val_accuracy: 0.8732\n",
            "Epoch 34/70\n",
            "54/54 [==============================] - 0s 2ms/step - loss: 0.3473 - accuracy: 0.8665 - val_loss: 0.3336 - val_accuracy: 0.8920\n",
            "Epoch 35/70\n",
            "54/54 [==============================] - 0s 2ms/step - loss: 0.3473 - accuracy: 0.8676 - val_loss: 0.3437 - val_accuracy: 0.8756\n",
            "Epoch 36/70\n",
            "54/54 [==============================] - 0s 2ms/step - loss: 0.3487 - accuracy: 0.8641 - val_loss: 0.3277 - val_accuracy: 0.8850\n",
            "Epoch 37/70\n",
            "54/54 [==============================] - 0s 2ms/step - loss: 0.3442 - accuracy: 0.8706 - val_loss: 0.3463 - val_accuracy: 0.8756\n",
            "Epoch 38/70\n",
            "54/54 [==============================] - 0s 2ms/step - loss: 0.3445 - accuracy: 0.8682 - val_loss: 0.3182 - val_accuracy: 0.8991\n",
            "Epoch 39/70\n",
            "54/54 [==============================] - 0s 2ms/step - loss: 0.3363 - accuracy: 0.8771 - val_loss: 0.3258 - val_accuracy: 0.8944\n",
            "Epoch 40/70\n",
            "54/54 [==============================] - 0s 2ms/step - loss: 0.3350 - accuracy: 0.8724 - val_loss: 0.3470 - val_accuracy: 0.8662\n",
            "Epoch 41/70\n",
            "54/54 [==============================] - 0s 2ms/step - loss: 0.3425 - accuracy: 0.8641 - val_loss: 0.3249 - val_accuracy: 0.8991\n",
            "Epoch 42/70\n",
            "54/54 [==============================] - 0s 2ms/step - loss: 0.3327 - accuracy: 0.8765 - val_loss: 0.3316 - val_accuracy: 0.8850\n",
            "Epoch 43/70\n",
            "54/54 [==============================] - 0s 2ms/step - loss: 0.3308 - accuracy: 0.8753 - val_loss: 0.3213 - val_accuracy: 0.8850\n",
            "Epoch 44/70\n",
            "54/54 [==============================] - 0s 2ms/step - loss: 0.3452 - accuracy: 0.8741 - val_loss: 0.3385 - val_accuracy: 0.8850\n",
            "Epoch 45/70\n",
            "54/54 [==============================] - 0s 2ms/step - loss: 0.3290 - accuracy: 0.8812 - val_loss: 0.3282 - val_accuracy: 0.8873\n",
            "Epoch 46/70\n",
            "54/54 [==============================] - 0s 2ms/step - loss: 0.3282 - accuracy: 0.8741 - val_loss: 0.3270 - val_accuracy: 0.8897\n",
            "Epoch 47/70\n",
            "54/54 [==============================] - 0s 2ms/step - loss: 0.3368 - accuracy: 0.8718 - val_loss: 0.3303 - val_accuracy: 0.8920\n",
            "Epoch 48/70\n",
            "54/54 [==============================] - 0s 2ms/step - loss: 0.3323 - accuracy: 0.8788 - val_loss: 0.3421 - val_accuracy: 0.8662\n",
            "Epoch 49/70\n",
            "54/54 [==============================] - 0s 2ms/step - loss: 0.3350 - accuracy: 0.8753 - val_loss: 0.3252 - val_accuracy: 0.8850\n",
            "Epoch 50/70\n",
            "54/54 [==============================] - 0s 2ms/step - loss: 0.3304 - accuracy: 0.8735 - val_loss: 0.3541 - val_accuracy: 0.8592\n",
            "Epoch 51/70\n",
            "54/54 [==============================] - 0s 2ms/step - loss: 0.3321 - accuracy: 0.8818 - val_loss: 0.3212 - val_accuracy: 0.8967\n",
            "Epoch 52/70\n",
            "54/54 [==============================] - 0s 2ms/step - loss: 0.3301 - accuracy: 0.8771 - val_loss: 0.3282 - val_accuracy: 0.8709\n",
            "Epoch 53/70\n",
            "54/54 [==============================] - 0s 2ms/step - loss: 0.3252 - accuracy: 0.8706 - val_loss: 0.3403 - val_accuracy: 0.8850\n",
            "Epoch 54/70\n",
            "54/54 [==============================] - 0s 2ms/step - loss: 0.3243 - accuracy: 0.8800 - val_loss: 0.3377 - val_accuracy: 0.8850\n",
            "Epoch 55/70\n",
            "54/54 [==============================] - 0s 2ms/step - loss: 0.3262 - accuracy: 0.8741 - val_loss: 0.3198 - val_accuracy: 0.8873\n",
            "Epoch 56/70\n",
            "54/54 [==============================] - 0s 2ms/step - loss: 0.3320 - accuracy: 0.8671 - val_loss: 0.3395 - val_accuracy: 0.8756\n",
            "Epoch 57/70\n",
            "54/54 [==============================] - 0s 2ms/step - loss: 0.3339 - accuracy: 0.8729 - val_loss: 0.3108 - val_accuracy: 0.8897\n",
            "Epoch 58/70\n",
            "54/54 [==============================] - 0s 2ms/step - loss: 0.3272 - accuracy: 0.8665 - val_loss: 0.3061 - val_accuracy: 0.9014\n",
            "Epoch 59/70\n",
            "54/54 [==============================] - 0s 2ms/step - loss: 0.3200 - accuracy: 0.8788 - val_loss: 0.3094 - val_accuracy: 0.9038\n",
            "Epoch 60/70\n",
            "54/54 [==============================] - 0s 2ms/step - loss: 0.3190 - accuracy: 0.8759 - val_loss: 0.3193 - val_accuracy: 0.8803\n",
            "Epoch 61/70\n",
            "54/54 [==============================] - 0s 2ms/step - loss: 0.3250 - accuracy: 0.8665 - val_loss: 0.3042 - val_accuracy: 0.9014\n",
            "Epoch 62/70\n",
            "54/54 [==============================] - 0s 2ms/step - loss: 0.3209 - accuracy: 0.8800 - val_loss: 0.3052 - val_accuracy: 0.9014\n",
            "Epoch 63/70\n",
            "54/54 [==============================] - 0s 2ms/step - loss: 0.3142 - accuracy: 0.8841 - val_loss: 0.3280 - val_accuracy: 0.8944\n",
            "Epoch 64/70\n",
            "54/54 [==============================] - 0s 2ms/step - loss: 0.3163 - accuracy: 0.8800 - val_loss: 0.3021 - val_accuracy: 0.9038\n",
            "Epoch 65/70\n",
            "54/54 [==============================] - 0s 2ms/step - loss: 0.3124 - accuracy: 0.8871 - val_loss: 0.3183 - val_accuracy: 0.8638\n",
            "Epoch 66/70\n",
            "54/54 [==============================] - 0s 2ms/step - loss: 0.3240 - accuracy: 0.8788 - val_loss: 0.3106 - val_accuracy: 0.9038\n",
            "Epoch 67/70\n",
            "54/54 [==============================] - 0s 2ms/step - loss: 0.3312 - accuracy: 0.8676 - val_loss: 0.3167 - val_accuracy: 0.8803\n",
            "Epoch 68/70\n",
            "54/54 [==============================] - 0s 2ms/step - loss: 0.3178 - accuracy: 0.8829 - val_loss: 0.3286 - val_accuracy: 0.8873\n",
            "Epoch 69/70\n",
            "54/54 [==============================] - 0s 2ms/step - loss: 0.3238 - accuracy: 0.8671 - val_loss: 0.3194 - val_accuracy: 0.8873\n",
            "Epoch 70/70\n",
            "54/54 [==============================] - 0s 2ms/step - loss: 0.3211 - accuracy: 0.8841 - val_loss: 0.3036 - val_accuracy: 0.9061\n"
          ]
        }
      ]
    },
    {
      "cell_type": "markdown",
      "source": [
        "### In conclusion, the machine learning model trained on the fetal health dataset achieved an accuracy of 80-90% in predicting fetal health. This demonstrates its potential to assist healthcare professionals in assessing the well-being of fetuses during pregnancy. Further research and validation are recommended to ensure its reliability and applicability in diverse healthcare settings."
      ],
      "metadata": {
        "id": "qoIiXlQ4l-wb"
      }
    }
  ]
}